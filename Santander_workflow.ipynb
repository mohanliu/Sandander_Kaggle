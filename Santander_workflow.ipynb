{
 "cells": [
  {
   "cell_type": "code",
   "execution_count": 1,
   "metadata": {},
   "outputs": [],
   "source": [
    "import numpy as np\n",
    "import pandas as pd\n",
    "import lightgbm as lgb\n",
    "from sklearn.metrics import mean_squared_error\n",
    "from sklearn.model_selection import KFold, train_test_split\n",
    "import os\n",
    "# UTC Timestamp and timing\n",
    "import time\n",
    "from datetime import datetime"
   ]
  },
  {
   "cell_type": "code",
   "execution_count": 2,
   "metadata": {},
   "outputs": [],
   "source": [
    "## Parallelization functions\n",
    "import numpy as np\n",
    "from multiprocessing import cpu_count\n",
    " \n",
    "nCores = cpu_count() # Number of CPU cores on your system\n",
    "partitions = nCores  # Number of partitions\n",
    " \n",
    "def parallelize(data, func):\n",
    "    data_split = np.array_split(data, partitions)\n",
    "    pool = Pool(nCores)\n",
    "    data = pd.concat(pool.map(func, data_split))\n",
    "    pool.close()\n",
    "    pool.join()\n",
    "    return data"
   ]
  },
  {
   "cell_type": "code",
   "execution_count": 7,
   "metadata": {},
   "outputs": [
    {
     "name": "stdout",
     "output_type": "stream",
     "text": [
      "train data loaded from csv 3.45 s!\n",
      "train data save to feather 4.02 s!\n",
      "test data loaded from csv 49.01 s!\n",
      "test data save to feather 62.70 s!\n"
     ]
    }
   ],
   "source": [
    "def load_data(conf):\n",
    "    st = time.time()\n",
    "    if os.path.exists(f'{conf}_raw.feather'):\n",
    "        out = pd.read_feather(f'{conf}_raw.feather')\n",
    "        print(f'{conf} data loaded from feather {time.time()-st:.2f} s!')\n",
    "    else:\n",
    "        out = pd.read_csv(f'./{conf}.csv.zip')\n",
    "        print(f'{conf} data loaded from csv {time.time()-st:.2f} s!')\n",
    "        out.to_feather(f'{conf}_raw.feather')\n",
    "        print(f'{conf} data save to feather {time.time()-st:.2f} s!')  \n",
    "    return out \n",
    "train = load_data('train')\n",
    "test = load_data('test')"
   ]
  },
  {
   "cell_type": "code",
   "execution_count": 8,
   "metadata": {},
   "outputs": [
    {
     "name": "stdout",
     "output_type": "stream",
     "text": [
      "(4459, 4993) (49342, 4992)\n"
     ]
    },
    {
     "data": {
      "text/html": [
       "<div>\n",
       "<style scoped>\n",
       "    .dataframe tbody tr th:only-of-type {\n",
       "        vertical-align: middle;\n",
       "    }\n",
       "\n",
       "    .dataframe tbody tr th {\n",
       "        vertical-align: top;\n",
       "    }\n",
       "\n",
       "    .dataframe thead th {\n",
       "        text-align: right;\n",
       "    }\n",
       "</style>\n",
       "<table border=\"1\" class=\"dataframe\">\n",
       "  <thead>\n",
       "    <tr style=\"text-align: right;\">\n",
       "      <th></th>\n",
       "      <th>ID</th>\n",
       "      <th>target</th>\n",
       "      <th>48df886f9</th>\n",
       "      <th>0deb4b6a8</th>\n",
       "      <th>34b15f335</th>\n",
       "      <th>a8cb14b00</th>\n",
       "      <th>2f0771a37</th>\n",
       "      <th>30347e683</th>\n",
       "      <th>d08d1fbe3</th>\n",
       "      <th>6ee66e115</th>\n",
       "      <th>...</th>\n",
       "      <th>3ecc09859</th>\n",
       "      <th>9281abeea</th>\n",
       "      <th>8675bec0b</th>\n",
       "      <th>3a13ed79a</th>\n",
       "      <th>f677d4d13</th>\n",
       "      <th>71b203550</th>\n",
       "      <th>137efaa80</th>\n",
       "      <th>fb36b89d9</th>\n",
       "      <th>7e293fbaf</th>\n",
       "      <th>9fc776466</th>\n",
       "    </tr>\n",
       "  </thead>\n",
       "  <tbody>\n",
       "    <tr>\n",
       "      <th>0</th>\n",
       "      <td>000d6aaf2</td>\n",
       "      <td>38000000.0</td>\n",
       "      <td>0.0</td>\n",
       "      <td>0</td>\n",
       "      <td>0.0</td>\n",
       "      <td>0</td>\n",
       "      <td>0</td>\n",
       "      <td>0</td>\n",
       "      <td>0</td>\n",
       "      <td>0</td>\n",
       "      <td>...</td>\n",
       "      <td>0.0</td>\n",
       "      <td>0.0</td>\n",
       "      <td>0.0</td>\n",
       "      <td>0</td>\n",
       "      <td>0</td>\n",
       "      <td>0</td>\n",
       "      <td>0</td>\n",
       "      <td>0</td>\n",
       "      <td>0</td>\n",
       "      <td>0</td>\n",
       "    </tr>\n",
       "    <tr>\n",
       "      <th>1</th>\n",
       "      <td>000fbd867</td>\n",
       "      <td>600000.0</td>\n",
       "      <td>0.0</td>\n",
       "      <td>0</td>\n",
       "      <td>0.0</td>\n",
       "      <td>0</td>\n",
       "      <td>0</td>\n",
       "      <td>0</td>\n",
       "      <td>0</td>\n",
       "      <td>0</td>\n",
       "      <td>...</td>\n",
       "      <td>0.0</td>\n",
       "      <td>0.0</td>\n",
       "      <td>0.0</td>\n",
       "      <td>0</td>\n",
       "      <td>0</td>\n",
       "      <td>0</td>\n",
       "      <td>0</td>\n",
       "      <td>0</td>\n",
       "      <td>0</td>\n",
       "      <td>0</td>\n",
       "    </tr>\n",
       "    <tr>\n",
       "      <th>2</th>\n",
       "      <td>0027d6b71</td>\n",
       "      <td>10000000.0</td>\n",
       "      <td>0.0</td>\n",
       "      <td>0</td>\n",
       "      <td>0.0</td>\n",
       "      <td>0</td>\n",
       "      <td>0</td>\n",
       "      <td>0</td>\n",
       "      <td>0</td>\n",
       "      <td>0</td>\n",
       "      <td>...</td>\n",
       "      <td>0.0</td>\n",
       "      <td>0.0</td>\n",
       "      <td>0.0</td>\n",
       "      <td>0</td>\n",
       "      <td>0</td>\n",
       "      <td>0</td>\n",
       "      <td>0</td>\n",
       "      <td>0</td>\n",
       "      <td>0</td>\n",
       "      <td>0</td>\n",
       "    </tr>\n",
       "    <tr>\n",
       "      <th>3</th>\n",
       "      <td>0028cbf45</td>\n",
       "      <td>2000000.0</td>\n",
       "      <td>0.0</td>\n",
       "      <td>0</td>\n",
       "      <td>0.0</td>\n",
       "      <td>0</td>\n",
       "      <td>0</td>\n",
       "      <td>0</td>\n",
       "      <td>0</td>\n",
       "      <td>0</td>\n",
       "      <td>...</td>\n",
       "      <td>0.0</td>\n",
       "      <td>0.0</td>\n",
       "      <td>0.0</td>\n",
       "      <td>0</td>\n",
       "      <td>0</td>\n",
       "      <td>0</td>\n",
       "      <td>0</td>\n",
       "      <td>0</td>\n",
       "      <td>0</td>\n",
       "      <td>0</td>\n",
       "    </tr>\n",
       "    <tr>\n",
       "      <th>4</th>\n",
       "      <td>002a68644</td>\n",
       "      <td>14400000.0</td>\n",
       "      <td>0.0</td>\n",
       "      <td>0</td>\n",
       "      <td>0.0</td>\n",
       "      <td>0</td>\n",
       "      <td>0</td>\n",
       "      <td>0</td>\n",
       "      <td>0</td>\n",
       "      <td>0</td>\n",
       "      <td>...</td>\n",
       "      <td>0.0</td>\n",
       "      <td>0.0</td>\n",
       "      <td>0.0</td>\n",
       "      <td>0</td>\n",
       "      <td>0</td>\n",
       "      <td>0</td>\n",
       "      <td>0</td>\n",
       "      <td>0</td>\n",
       "      <td>0</td>\n",
       "      <td>0</td>\n",
       "    </tr>\n",
       "  </tbody>\n",
       "</table>\n",
       "<p>5 rows × 4993 columns</p>\n",
       "</div>"
      ],
      "text/plain": [
       "          ID      target  48df886f9  0deb4b6a8  34b15f335  a8cb14b00  \\\n",
       "0  000d6aaf2  38000000.0        0.0          0        0.0          0   \n",
       "1  000fbd867    600000.0        0.0          0        0.0          0   \n",
       "2  0027d6b71  10000000.0        0.0          0        0.0          0   \n",
       "3  0028cbf45   2000000.0        0.0          0        0.0          0   \n",
       "4  002a68644  14400000.0        0.0          0        0.0          0   \n",
       "\n",
       "   2f0771a37  30347e683  d08d1fbe3  6ee66e115    ...      3ecc09859  \\\n",
       "0          0          0          0          0    ...            0.0   \n",
       "1          0          0          0          0    ...            0.0   \n",
       "2          0          0          0          0    ...            0.0   \n",
       "3          0          0          0          0    ...            0.0   \n",
       "4          0          0          0          0    ...            0.0   \n",
       "\n",
       "   9281abeea  8675bec0b  3a13ed79a  f677d4d13  71b203550  137efaa80  \\\n",
       "0        0.0        0.0          0          0          0          0   \n",
       "1        0.0        0.0          0          0          0          0   \n",
       "2        0.0        0.0          0          0          0          0   \n",
       "3        0.0        0.0          0          0          0          0   \n",
       "4        0.0        0.0          0          0          0          0   \n",
       "\n",
       "   fb36b89d9  7e293fbaf  9fc776466  \n",
       "0          0          0          0  \n",
       "1          0          0          0  \n",
       "2          0          0          0  \n",
       "3          0          0          0  \n",
       "4          0          0          0  \n",
       "\n",
       "[5 rows x 4993 columns]"
      ]
     },
     "execution_count": 8,
     "metadata": {},
     "output_type": "execute_result"
    }
   ],
   "source": [
    "print(train.shape, test.shape)\n",
    "train.head()"
   ]
  },
  {
   "cell_type": "code",
   "execution_count": 9,
   "metadata": {},
   "outputs": [
    {
     "name": "stdout",
     "output_type": "stream",
     "text": [
      "(4459, 4737) (49342, 4736)\n"
     ]
    }
   ],
   "source": [
    "## Drop columns with only one unique value (usually zero)\n",
    "only_one = train.columns[train.nunique() == 1]\n",
    "train.drop(only_one, axis = 1, inplace = True)\n",
    "test.drop(only_one, axis = 1, inplace = True)\n",
    "print(train.shape, test.shape)"
   ]
  },
  {
   "cell_type": "code",
   "execution_count": 10,
   "metadata": {},
   "outputs": [],
   "source": [
    "## Copy training features and target out\n",
    "dataCols = [c for c in train.columns if c not in ['ID', 'target']]\n",
    "xtrain = train[dataCols].copy().values\n",
    "target = train['target'].copy().values"
   ]
  },
  {
   "cell_type": "code",
   "execution_count": 18,
   "metadata": {},
   "outputs": [],
   "source": [
    "from PIL import Image, ImageDraw, ImageColor\n",
    "im = Image.new('RGB', xtrain.shape)\n",
    "wh = ImageColor.getrgb('white')\n",
    "re = ImageColor.getrgb('red')\n",
    "gr = ImageColor.getrgb('green')\n",
    "ga = ImageColor.getrgb('gray')\n",
    "\n",
    "for x in range(xtrain.shape[0]):\n",
    "    for y in range(xtrain.shape[1]):\n",
    "        if xtrain[x][y] == 0:\n",
    "            im.putpixel((x,y), wh)\n",
    "        elif xtrain[x][y] == target[x]:\n",
    "            im.putpixel((x,y), re)\n",
    "        elif (np.abs(xtrain[x][y] - target[x]) / target[x]) < 0.05:\n",
    "            im.putpixel((x,y), gr)\n",
    "        else:\n",
    "            im.putpixel((x,y), ga)\n",
    "im.save('leak.bmp')"
   ]
  },
  {
   "cell_type": "code",
   "execution_count": 11,
   "metadata": {},
   "outputs": [
    {
     "name": "stdout",
     "output_type": "stream",
     "text": [
      "114\n"
     ]
    }
   ],
   "source": [
    "leak_col = []\n",
    "for c in dataCols:\n",
    "    leak2 = np.sum(( np.abs((train[c] - train['target']) / train['target']) < 0.05).astype(int))\n",
    "    if leak2 > 30:\n",
    "        leak_col.append(c)\n",
    "print(len(leak_col))"
   ]
  },
  {
   "cell_type": "code",
   "execution_count": 12,
   "metadata": {},
   "outputs": [],
   "source": [
    "leak_col = list(leak_col)\n",
    "train = train[leak_col +  ['ID', 'target']]\n",
    "test = test[leak_col +  ['ID']]"
   ]
  },
  {
   "cell_type": "code",
   "execution_count": 13,
   "metadata": {},
   "outputs": [],
   "source": [
    "train.loc[:,\"nz_mean\"] = train[leak_col].apply(lambda x: x[x!=0].mean(), axis=1)\n",
    "train.loc[:,\"nz_max\"] = train[leak_col].apply(lambda x: x[x!=0].max(), axis=1)\n",
    "train.loc[:,\"nz_min\"] = train[leak_col].apply(lambda x: x[x!=0].min(), axis=1)\n",
    "train.loc[:,\"cntZero\"] = train[leak_col].apply(lambda x: len(x[x==0]), axis=1)\n",
    "train.loc[:,\"mean\"] = train[leak_col].apply(lambda x: x.mean(), axis=1)\n",
    "train.loc[:,\"max\"] = train[leak_col].apply(lambda x: x.max(), axis=1)\n",
    "train.loc[:,\"min\"] = train[leak_col].apply(lambda x: x.min(), axis=1)\n",
    "\n",
    "test.loc[:,\"nz_mean\"] = test[leak_col].apply(lambda x: x[x!=0].mean(), axis=1)\n",
    "test.loc[:,\"nz_max\"] = test[leak_col].apply(lambda x: x[x!=0].max(), axis=1)\n",
    "test.loc[:,\"nz_min\"] = test[leak_col].apply(lambda x: x[x!=0].min(), axis=1)\n",
    "test.loc[:,\"cntZero\"] = test[leak_col].apply(lambda x: len(x[x==0]), axis=1)\n",
    "test.loc[:,\"mean\"] = test[leak_col].apply(lambda x: x.mean(), axis=1)\n",
    "test.loc[:,\"max\"] = test[leak_col].apply(lambda x: x.max(), axis=1)\n",
    "test.loc[:,\"min\"] = test[leak_col].apply(lambda x: x.min(), axis=1)\n",
    "leak_col += ['nz_mean', 'nz_max', 'nz_min', 'cntZero', 'mean', 'max', 'min']"
   ]
  },
  {
   "cell_type": "code",
   "execution_count": 13,
   "metadata": {},
   "outputs": [
    {
     "name": "stdout",
     "output_type": "stream",
     "text": [
      "(4459, 123) (49342, 122)\n",
      "['20aa07010', '87ffda550', '963a49cdc', '68a945b18', '63c094ba4', '935ca66a9', 'e078302ef', '861076e21', 'bee629024', '26fc93eb7', '0572565c2', '66ace2992', '350473311', 'fb49e4212', '6619d81fc', '8337d1adc', '6eef030c1', 'fc99f9426', '1c71183bb', 'bd6da0cca', '956d228b9', 'df838756c', 'f3cf9341c', '2eeadde2b', '1db387535', 'ce3d7595b', 'b43a7cfd5', '024c577b9', 'aac52d8d9', 'ea772e115', 'ad009c8b9', 'b4cfe861f', '51d4053c7', '2ec5b290f', '44d5b820f', 'cd24eae8a', '0ff32eb98', '166008929', '58e056e12', 'e16a20511', 'b7c931383', '241f0f867', 'cbb673163', '1931ccfdd', '8f57141ec', 'f02ecb19c', '58e2e02e6', '1fe5d56b9', '5e645a169', '031490e77', 'a6b6bc34a', 'a9f61cf27', '9fd594eec', 'fb0f5dbfe', 'd5fa73ead', '99e779ee0', 'f6eba969e', '91f701ba2', '6b795a2bc', 'ca2b906e8', '8e4d0fe45', '703885424', '6c5c8869c', '2e103d632', 'f97d9431e', '191e21b5f', 'c928b4b74', '122c135ed', '62fb56487', 'eeb9cd3aa', '324921c7b', '58232a6fb', 'c0d2348b7', '1af4d24fa', '491b9ee45', 'c8d582dd2', '2e3c96323', '9f7b782ac', 'd6bb78916', '1dd7bca9f', 'c10f31664', '4bcf15776', '70feb1494', 'adb64ff71', '796c218e8', '11e12dbe8', '9de83dc23', '62e59a501', '15ace8c9f', '1d04efde3', '5c6487af1', 'a3ef69ad5', 'bb0ce54e9', '949ed0965', 'f9e3b03b7', 'f190486d6', 'f74e8f13d', '77deffdf0', '9d5c7cb94', 'c5a231d81', '0d51722ca', 'e176a204a', '1702b5bf0', 'a09a238d0', '190db8488', 'c47340d97', '2cb73ede7', 'a3fb07bfd', '4dcf81d65', '8781e4b91', '6df033973', '23310aa6f', 'cdfc2b069', '8675bec0b', 'nz_mean', 'nz_max', 'nz_min', 'cntZero', 'mean', 'max', 'min']\n"
     ]
    }
   ],
   "source": [
    "## Save to feather\n",
    "train.to_feather('./train_processed.feather')\n",
    "test.to_feather('./test_processed.feather')\n",
    "print(train.shape, test.shape)\n",
    "print(leak_col)"
   ]
  },
  {
   "cell_type": "code",
   "execution_count": 14,
   "metadata": {},
   "outputs": [],
   "source": [
    "## Load from feather\n",
    "if os.path.exists('./train_processed.feather'):\n",
    "    train = pd.read_feather(f'./train_processed.feather')\n",
    "if os.path.exists('./test_processed.feather'):\n",
    "    test = pd.read_feather(f'./test_processed.feather')"
   ]
  },
  {
   "cell_type": "code",
   "execution_count": 18,
   "metadata": {},
   "outputs": [],
   "source": [
    "baseline = pd.read_csv('./baseline-0.63.csv')\n",
    "test = pd.merge(test, baseline, how='left', on='ID')\n",
    "train = train.replace(0, np.nan)\n",
    "test = test.replace(0, np.nan)\n",
    "model_train = pd.concat((train, test), axis=0, ignore_index=True, sort=False)"
   ]
  },
  {
   "cell_type": "code",
   "execution_count": 39,
   "metadata": {},
   "outputs": [],
   "source": [
    "for i in range(2, 100):\n",
    "    train['index'+str(i)] = ((train.index + 2) % i == 0).astype(int)\n",
    "    test['index'+str(i)] = ((test.index + 2) % i == 0).astype(int)\n",
    "    col.append('index'+str(i))"
   ]
  },
  {
   "cell_type": "code",
   "execution_count": 19,
   "metadata": {},
   "outputs": [
    {
     "name": "stdout",
     "output_type": "stream",
     "text": [
      "Training until validation scores don't improve for 200 rounds.\n",
      "[200]\tvalid_0's rmse: 1.55082\n",
      "[400]\tvalid_0's rmse: 1.46941\n",
      "[600]\tvalid_0's rmse: 1.4322\n",
      "[800]\tvalid_0's rmse: 1.41596\n",
      "[1000]\tvalid_0's rmse: 1.4081\n",
      "[1200]\tvalid_0's rmse: 1.40616\n",
      "[1400]\tvalid_0's rmse: 1.40389\n",
      "[1600]\tvalid_0's rmse: 1.40344\n",
      "Early stopping, best iteration is:\n",
      "[1525]\tvalid_0's rmse: 1.40319\n",
      "Training until validation scores don't improve for 200 rounds.\n",
      "[200]\tvalid_0's rmse: 1.52021\n",
      "[400]\tvalid_0's rmse: 1.42658\n",
      "[600]\tvalid_0's rmse: 1.38172\n",
      "[800]\tvalid_0's rmse: 1.36061\n",
      "[1000]\tvalid_0's rmse: 1.35135\n",
      "[1200]\tvalid_0's rmse: 1.34791\n",
      "[1400]\tvalid_0's rmse: 1.34741\n",
      "[1600]\tvalid_0's rmse: 1.3468\n",
      "Early stopping, best iteration is:\n",
      "[1555]\tvalid_0's rmse: 1.34647\n",
      "Training until validation scores don't improve for 200 rounds.\n",
      "[200]\tvalid_0's rmse: 1.56254\n",
      "[400]\tvalid_0's rmse: 1.45347\n",
      "[600]\tvalid_0's rmse: 1.39529\n",
      "[800]\tvalid_0's rmse: 1.36222\n",
      "[1000]\tvalid_0's rmse: 1.34479\n",
      "[1200]\tvalid_0's rmse: 1.33469\n",
      "[1400]\tvalid_0's rmse: 1.32818\n",
      "[1600]\tvalid_0's rmse: 1.32488\n",
      "[1800]\tvalid_0's rmse: 1.32253\n",
      "[2000]\tvalid_0's rmse: 1.32107\n",
      "[2200]\tvalid_0's rmse: 1.32103\n",
      "[2400]\tvalid_0's rmse: 1.32021\n",
      "[2600]\tvalid_0's rmse: 1.32024\n",
      "Early stopping, best iteration is:\n",
      "[2435]\tvalid_0's rmse: 1.32013\n",
      "Training until validation scores don't improve for 200 rounds.\n",
      "[200]\tvalid_0's rmse: 1.58113\n",
      "[400]\tvalid_0's rmse: 1.48774\n",
      "[600]\tvalid_0's rmse: 1.44234\n",
      "[800]\tvalid_0's rmse: 1.42037\n",
      "[1000]\tvalid_0's rmse: 1.40918\n",
      "[1200]\tvalid_0's rmse: 1.40407\n",
      "[1400]\tvalid_0's rmse: 1.40232\n",
      "[1600]\tvalid_0's rmse: 1.40139\n",
      "[1800]\tvalid_0's rmse: 1.40127\n",
      "Early stopping, best iteration is:\n",
      "[1616]\tvalid_0's rmse: 1.401\n"
     ]
    },
    {
     "ename": "KeyboardInterrupt",
     "evalue": "",
     "output_type": "error",
     "traceback": [
      "\u001b[0;31m---------------------------------------------------------------------------\u001b[0m",
      "\u001b[0;31mKeyboardInterrupt\u001b[0m                         Traceback (most recent call last)",
      "\u001b[0;32m<ipython-input-19-00b6825456db>\u001b[0m in \u001b[0;36m<module>\u001b[0;34m()\u001b[0m\n\u001b[1;32m     22\u001b[0m     \u001b[0mx1\u001b[0m\u001b[0;34m,\u001b[0m \u001b[0mx2\u001b[0m\u001b[0;34m,\u001b[0m \u001b[0my1\u001b[0m\u001b[0;34m,\u001b[0m \u001b[0my2\u001b[0m \u001b[0;34m=\u001b[0m \u001b[0mtrain_test_split\u001b[0m\u001b[0;34m(\u001b[0m\u001b[0mtrain\u001b[0m\u001b[0;34m[\u001b[0m\u001b[0mleak_col\u001b[0m\u001b[0;34m]\u001b[0m\u001b[0;34m,\u001b[0m \u001b[0mnp\u001b[0m\u001b[0;34m.\u001b[0m\u001b[0mlog1p\u001b[0m\u001b[0;34m(\u001b[0m\u001b[0mtrain\u001b[0m\u001b[0;34m.\u001b[0m\u001b[0mtarget\u001b[0m\u001b[0;34m.\u001b[0m\u001b[0mvalues\u001b[0m\u001b[0;34m)\u001b[0m\u001b[0;34m,\u001b[0m \u001b[0mtest_size\u001b[0m\u001b[0;34m=\u001b[0m\u001b[0mtestRatio\u001b[0m\u001b[0;34m,\u001b[0m \u001b[0mrandom_state\u001b[0m\u001b[0;34m=\u001b[0m\u001b[0mfold\u001b[0m\u001b[0;34m)\u001b[0m\u001b[0;34m\u001b[0m\u001b[0m\n\u001b[1;32m     23\u001b[0m     \u001b[0mmodel\u001b[0m \u001b[0;34m=\u001b[0m \u001b[0mlgb\u001b[0m\u001b[0;34m.\u001b[0m\u001b[0mtrain\u001b[0m\u001b[0;34m(\u001b[0m\u001b[0mparams\u001b[0m\u001b[0;34m,\u001b[0m \u001b[0mlgb\u001b[0m\u001b[0;34m.\u001b[0m\u001b[0mDataset\u001b[0m\u001b[0;34m(\u001b[0m\u001b[0mx1\u001b[0m\u001b[0;34m,\u001b[0m \u001b[0mlabel\u001b[0m\u001b[0;34m=\u001b[0m\u001b[0my1\u001b[0m\u001b[0;34m)\u001b[0m\u001b[0;34m,\u001b[0m \u001b[0;36m5000\u001b[0m\u001b[0;34m,\u001b[0m \u001b[0mlgb\u001b[0m\u001b[0;34m.\u001b[0m\u001b[0mDataset\u001b[0m\u001b[0;34m(\u001b[0m\u001b[0mx2\u001b[0m\u001b[0;34m,\u001b[0m \u001b[0mlabel\u001b[0m\u001b[0;34m=\u001b[0m\u001b[0my2\u001b[0m\u001b[0;34m)\u001b[0m\u001b[0;34m,\u001b[0m \u001b[0mverbose_eval\u001b[0m\u001b[0;34m=\u001b[0m\u001b[0;36m200\u001b[0m\u001b[0;34m,\u001b[0m \u001b[0mearly_stopping_rounds\u001b[0m\u001b[0;34m=\u001b[0m\u001b[0;36m200\u001b[0m\u001b[0;34m)\u001b[0m\u001b[0;34m\u001b[0m\u001b[0m\n\u001b[0;32m---> 24\u001b[0;31m     \u001b[0mpred\u001b[0m \u001b[0;34m=\u001b[0m \u001b[0mnp\u001b[0m\u001b[0;34m.\u001b[0m\u001b[0mexpm1\u001b[0m\u001b[0;34m(\u001b[0m\u001b[0mmodel\u001b[0m\u001b[0;34m.\u001b[0m\u001b[0mpredict\u001b[0m\u001b[0;34m(\u001b[0m\u001b[0mtest\u001b[0m\u001b[0;34m[\u001b[0m\u001b[0mleak_col\u001b[0m\u001b[0;34m]\u001b[0m\u001b[0;34m,\u001b[0m \u001b[0mnum_iteration\u001b[0m\u001b[0;34m=\u001b[0m\u001b[0mmodel\u001b[0m\u001b[0;34m.\u001b[0m\u001b[0mbest_iteration\u001b[0m\u001b[0;34m)\u001b[0m\u001b[0;34m)\u001b[0m\u001b[0;34m\u001b[0m\u001b[0m\n\u001b[0m\u001b[1;32m     25\u001b[0m     \u001b[0mrawScores\u001b[0m\u001b[0;34m.\u001b[0m\u001b[0mappend\u001b[0m\u001b[0;34m(\u001b[0m\u001b[0mmodel\u001b[0m\u001b[0;34m.\u001b[0m\u001b[0mbest_score\u001b[0m\u001b[0;34m[\u001b[0m\u001b[0;34m'valid_0'\u001b[0m\u001b[0;34m]\u001b[0m\u001b[0;34m[\u001b[0m\u001b[0;34m'rmse'\u001b[0m\u001b[0;34m]\u001b[0m\u001b[0;34m)\u001b[0m\u001b[0;34m\u001b[0m\u001b[0m\n\u001b[1;32m     26\u001b[0m     \u001b[0mfeatureImportance\u001b[0m\u001b[0;34m.\u001b[0m\u001b[0mappend\u001b[0m\u001b[0;34m(\u001b[0m\u001b[0mmodel\u001b[0m\u001b[0;34m.\u001b[0m\u001b[0mfeature_importance\u001b[0m\u001b[0;34m(\u001b[0m\u001b[0;34m)\u001b[0m\u001b[0;34m)\u001b[0m\u001b[0;34m\u001b[0m\u001b[0m\n",
      "\u001b[0;32m~/anaconda3/lib/python3.6/site-packages/lightgbm/basic.py\u001b[0m in \u001b[0;36mpredict\u001b[0;34m(self, data, num_iteration, raw_score, pred_leaf, pred_contrib, data_has_header, is_reshape, pred_parameter, **kwargs)\u001b[0m\n\u001b[1;32m   1800\u001b[0m         \u001b[0;32mif\u001b[0m \u001b[0mnum_iteration\u001b[0m \u001b[0;34m<=\u001b[0m \u001b[0;36m0\u001b[0m\u001b[0;34m:\u001b[0m\u001b[0;34m\u001b[0m\u001b[0m\n\u001b[1;32m   1801\u001b[0m             \u001b[0mnum_iteration\u001b[0m \u001b[0;34m=\u001b[0m \u001b[0mself\u001b[0m\u001b[0;34m.\u001b[0m\u001b[0mbest_iteration\u001b[0m\u001b[0;34m\u001b[0m\u001b[0m\n\u001b[0;32m-> 1802\u001b[0;31m         \u001b[0;32mreturn\u001b[0m \u001b[0mpredictor\u001b[0m\u001b[0;34m.\u001b[0m\u001b[0mpredict\u001b[0m\u001b[0;34m(\u001b[0m\u001b[0mdata\u001b[0m\u001b[0;34m,\u001b[0m \u001b[0mnum_iteration\u001b[0m\u001b[0;34m,\u001b[0m \u001b[0mraw_score\u001b[0m\u001b[0;34m,\u001b[0m \u001b[0mpred_leaf\u001b[0m\u001b[0;34m,\u001b[0m \u001b[0mpred_contrib\u001b[0m\u001b[0;34m,\u001b[0m \u001b[0mdata_has_header\u001b[0m\u001b[0;34m,\u001b[0m \u001b[0mis_reshape\u001b[0m\u001b[0;34m)\u001b[0m\u001b[0;34m\u001b[0m\u001b[0m\n\u001b[0m\u001b[1;32m   1803\u001b[0m \u001b[0;34m\u001b[0m\u001b[0m\n\u001b[1;32m   1804\u001b[0m     \u001b[0;32mdef\u001b[0m \u001b[0mget_leaf_output\u001b[0m\u001b[0;34m(\u001b[0m\u001b[0mself\u001b[0m\u001b[0;34m,\u001b[0m \u001b[0mtree_id\u001b[0m\u001b[0;34m,\u001b[0m \u001b[0mleaf_id\u001b[0m\u001b[0;34m)\u001b[0m\u001b[0;34m:\u001b[0m\u001b[0;34m\u001b[0m\u001b[0m\n",
      "\u001b[0;32m~/anaconda3/lib/python3.6/site-packages/lightgbm/basic.py\u001b[0m in \u001b[0;36mpredict\u001b[0;34m(self, data, num_iteration, raw_score, pred_leaf, pred_contrib, data_has_header, is_reshape)\u001b[0m\n\u001b[1;32m    438\u001b[0m         \u001b[0;32melif\u001b[0m \u001b[0misinstance\u001b[0m\u001b[0;34m(\u001b[0m\u001b[0mdata\u001b[0m\u001b[0;34m,\u001b[0m \u001b[0mnp\u001b[0m\u001b[0;34m.\u001b[0m\u001b[0mndarray\u001b[0m\u001b[0;34m)\u001b[0m\u001b[0;34m:\u001b[0m\u001b[0;34m\u001b[0m\u001b[0m\n\u001b[1;32m    439\u001b[0m             preds, nrow = self.__pred_for_np2d(data, num_iteration,\n\u001b[0;32m--> 440\u001b[0;31m                                                predict_type)\n\u001b[0m\u001b[1;32m    441\u001b[0m         \u001b[0;32melif\u001b[0m \u001b[0misinstance\u001b[0m\u001b[0;34m(\u001b[0m\u001b[0mdata\u001b[0m\u001b[0;34m,\u001b[0m \u001b[0mlist\u001b[0m\u001b[0;34m)\u001b[0m\u001b[0;34m:\u001b[0m\u001b[0;34m\u001b[0m\u001b[0m\n\u001b[1;32m    442\u001b[0m             \u001b[0;32mtry\u001b[0m\u001b[0;34m:\u001b[0m\u001b[0;34m\u001b[0m\u001b[0m\n",
      "\u001b[0;32m~/anaconda3/lib/python3.6/site-packages/lightgbm/basic.py\u001b[0m in \u001b[0;36m__pred_for_np2d\u001b[0;34m(self, mat, num_iteration, predict_type)\u001b[0m\n\u001b[1;32m    505\u001b[0m             \u001b[0mc_str\u001b[0m\u001b[0;34m(\u001b[0m\u001b[0mself\u001b[0m\u001b[0;34m.\u001b[0m\u001b[0mpred_parameter\u001b[0m\u001b[0;34m)\u001b[0m\u001b[0;34m,\u001b[0m\u001b[0;34m\u001b[0m\u001b[0m\n\u001b[1;32m    506\u001b[0m             \u001b[0mctypes\u001b[0m\u001b[0;34m.\u001b[0m\u001b[0mbyref\u001b[0m\u001b[0;34m(\u001b[0m\u001b[0mout_num_preds\u001b[0m\u001b[0;34m)\u001b[0m\u001b[0;34m,\u001b[0m\u001b[0;34m\u001b[0m\u001b[0m\n\u001b[0;32m--> 507\u001b[0;31m             preds.ctypes.data_as(ctypes.POINTER(ctypes.c_double))))\n\u001b[0m\u001b[1;32m    508\u001b[0m         \u001b[0;32mif\u001b[0m \u001b[0mn_preds\u001b[0m \u001b[0;34m!=\u001b[0m \u001b[0mout_num_preds\u001b[0m\u001b[0;34m.\u001b[0m\u001b[0mvalue\u001b[0m\u001b[0;34m:\u001b[0m\u001b[0;34m\u001b[0m\u001b[0m\n\u001b[1;32m    509\u001b[0m             \u001b[0;32mraise\u001b[0m \u001b[0mValueError\u001b[0m\u001b[0;34m(\u001b[0m\u001b[0;34m\"Wrong length for predict results\"\u001b[0m\u001b[0;34m)\u001b[0m\u001b[0;34m\u001b[0m\u001b[0m\n",
      "\u001b[0;31mKeyboardInterrupt\u001b[0m: "
     ]
    }
   ],
   "source": [
    "# test['target'] = 0.0\n",
    "testRatio = 0.20\n",
    "nFolds = 5\n",
    "params = {\n",
    "    'nthread': cpu_count(),\n",
    "    'learning_rate': 0.002, \n",
    "    'max_depth': 7,\n",
    "    'boosting': 'gbdt', \n",
    "    'objective': 'regression',\n",
    "#     'tree_learner': 'feature',\n",
    "    'metric': 'rmse',\n",
    "    'is_training_metric': True,\n",
    "    'feature_fraction': 0.9, \n",
    "    'bagging_fraction': 0.8, \n",
    "    'bagging_freq': 5, \n",
    "    'seed': nFolds\n",
    "}\n",
    "rawScores = []\n",
    "featureImportance = []\n",
    "timeStampStart = datetime.fromtimestamp(time.time())\n",
    "for fold in range(nFolds):\n",
    "    x1, x2, y1, y2 = train_test_split(train[leak_col], np.log1p(train.target.values), test_size=testRatio, random_state=fold)\n",
    "    model = lgb.train(params, lgb.Dataset(x1, label=y1), 5000, lgb.Dataset(x2, label=y2), verbose_eval=200, early_stopping_rounds=200)\n",
    "    pred = np.expm1(model.predict(test[leak_col], num_iteration=model.best_iteration))\n",
    "    rawScores.append(model.best_score['valid_0']['rmse'])\n",
    "    featureImportance.append(model.feature_importance())\n",
    "    test['target'] += pred\n",
    "    \n",
    "featureImportance /= np.sum(rawScores)\n",
    "test['target'] /= folds + 1\n",
    "timeStampEnd = datetime.fromtimestamp(time.time())\n",
    "durationSecond = (timeStampEnd - timeStampStart).total_seconds()"
   ]
  },
  {
   "cell_type": "code",
   "execution_count": 32,
   "metadata": {},
   "outputs": [
    {
     "ename": "NameError",
     "evalue": "name 'nFolds' is not defined",
     "output_type": "error",
     "traceback": [
      "\u001b[0;31m---------------------------------------------------------------------------\u001b[0m",
      "\u001b[0;31mNameError\u001b[0m                                 Traceback (most recent call last)",
      "\u001b[0;32m<ipython-input-32-f2cd7394dab5>\u001b[0m in \u001b[0;36m<module>\u001b[0;34m()\u001b[0m\n\u001b[1;32m     16\u001b[0m \u001b[0msubmissionComment\u001b[0m \u001b[0;34m=\u001b[0m \u001b[0;34m''\u001b[0m\u001b[0;34m\u001b[0m\u001b[0m\n\u001b[1;32m     17\u001b[0m \u001b[0msubmissionFile\u001b[0m \u001b[0;34m=\u001b[0m \u001b[0;34mf'./submissions/{submissionVersion}.csv'\u001b[0m\u001b[0;34m\u001b[0m\u001b[0m\n\u001b[0;32m---> 18\u001b[0;31m \u001b[0msubmissionNote\u001b[0m \u001b[0;34m=\u001b[0m \u001b[0;34mf'{submissionVersion} - GBDT+Ensemble, n={nFolds}, p={testRatio}, {submissionComment}'\u001b[0m\u001b[0;34m\u001b[0m\u001b[0m\n\u001b[0m\u001b[1;32m     19\u001b[0m \u001b[0;34m\u001b[0m\u001b[0m\n\u001b[1;32m     20\u001b[0m \u001b[0mdictSave\u001b[0m \u001b[0;34m=\u001b[0m \u001b[0;34m{\u001b[0m\u001b[0;34m}\u001b[0m\u001b[0;34m\u001b[0m\u001b[0m\n",
      "\u001b[0;31mNameError\u001b[0m: name 'nFolds' is not defined"
     ]
    }
   ],
   "source": [
    "def getNewVersion():\n",
    "    try:\n",
    "        ld = [f for f in os.listdir('./submissions/') if '.json' in f]\n",
    "    except:\n",
    "        return 'v0.0'\n",
    "    maxVer = 0\n",
    "    for f in ld:\n",
    "        ver = int(''.join([c for c in f if c.isnumeric()]))\n",
    "        maxVer = max(maxVer, ver)\n",
    "    maxVer = str(maxVer + 1)\n",
    "    major = maxVer[0]\n",
    "    minor = maxVer[1:]\n",
    "    return f'v{major}.{minor}'\n",
    "\n",
    "submissionVersion = getNewVersion()\n",
    "submissionComment = ''\n",
    "submissionFile = f'./submissions/{submissionVersion}.csv'\n",
    "submissionNote = f'{submissionVersion} - GBDT+Ensemble, n={nFolds}, p={testRatio}, {submissionComment}'\n",
    "\n",
    "dictSave = {}\n",
    "dictSave['features'] = leak_col\n",
    "dictSave['featureRank'] = featureImportance\n",
    "dictSave['finalScore'] = np.mean(rawScores)\n",
    "dictSave['modelParam'] = params\n",
    "dictSave['testRatio'] = testRatio\n",
    "dictSave['nEnsemble'] = nFolds\n",
    "dictSave['bestScore'] = np.min(rawScores)\n",
    "dictSave['rawAucScore'] = rawScores\n",
    "dictSave['trainingTime'] = durationSecond\n",
    "dictSave['trainingThreads'] = params['nthread']\n",
    "# backup data\n",
    "with open(f'./submission/{submissionVersion}.pkl', 'wb') as fp:\n",
    "    pkl.dump(dictSave, fp)\n",
    "with open(f'./submission/{submissionVersion}.json', 'w') as fp:\n",
    "    json.dump(dictSave, fp, sort_keys=True, indent=4, cls=NumpyEncoder)\n",
    "    \n",
    "print(f'{submissionVersion} ready to submit')"
   ]
  },
  {
   "cell_type": "code",
   "execution_count": null,
   "metadata": {},
   "outputs": [],
   "source": [
    "test[['ID', 'target']].to_csv('./submissions/submission.csv', index=False)"
   ]
  },
  {
   "cell_type": "code",
   "execution_count": 61,
   "metadata": {},
   "outputs": [],
   "source": [
    "        keys = list(range(1,27))\n",
    "        values = [chr(i) for i in range(65,91)]\n",
    "        \n",
    "        mydict = dict(zip(keys, values))"
   ]
  },
  {
   "cell_type": "code",
   "execution_count": 76,
   "metadata": {},
   "outputs": [
    {
     "data": {
      "text/plain": [
       "True"
      ]
     },
     "execution_count": 76,
     "metadata": {},
     "output_type": "execute_result"
    }
   ],
   "source": [
    "a = 4/2\n",
    "(4/2).is_integer()"
   ]
  },
  {
   "cell_type": "code",
   "execution_count": null,
   "metadata": {},
   "outputs": [],
   "source": []
  }
 ],
 "metadata": {
  "kernelspec": {
   "display_name": "Python 3",
   "language": "python",
   "name": "python3"
  },
  "language_info": {
   "codemirror_mode": {
    "name": "ipython",
    "version": 3
   },
   "file_extension": ".py",
   "mimetype": "text/x-python",
   "name": "python",
   "nbconvert_exporter": "python",
   "pygments_lexer": "ipython3",
   "version": "3.6.6"
  }
 },
 "nbformat": 4,
 "nbformat_minor": 2
}
